{
 "cells": [
  {
   "cell_type": "markdown",
   "id": "b69e3988-5595-4625-bbfb-6935292f762c",
   "metadata": {},
   "source": [
    "## Comparacion de medias"
   ]
  },
  {
   "cell_type": "markdown",
   "id": "8d7b70a9-70d4-4087-baa5-c5c9032c1132",
   "metadata": {},
   "source": [
    "### Ejercicio 1\n",
    "\n",
    "En un experimento se compararon 2 tratamientos: control y tratado. Se midió bla bla bla bla"
   ]
  },
  {
   "cell_type": "code",
   "execution_count": 2,
   "id": "b3e18640-4ad9-44dc-a919-5812ef27fd2b",
   "metadata": {
    "tags": []
   },
   "outputs": [],
   "source": [
    "control <- c(2,4,5,6,3,4,5)\n",
    "tratado <- c(1,2,3,2,3,3,2,3,4,5)"
   ]
  },
  {
   "cell_type": "markdown",
   "id": "42ce17de-fe49-48b0-bb7b-781766674c36",
   "metadata": {},
   "source": [
    "a. Grafique las observaciones"
   ]
  },
  {
   "cell_type": "code",
   "execution_count": null,
   "id": "0382b39b-f3be-438d-9c02-9f2a02f5a847",
   "metadata": {},
   "outputs": [],
   "source": [
    "# Tu codigo\n"
   ]
  },
  {
   "cell_type": "markdown",
   "id": "ac6645ad-0b45-4fe6-b8e6-7eee3be57f5e",
   "metadata": {},
   "source": []
  },
  {
   "cell_type": "markdown",
   "id": "5ddffac3-c107-4656-ad64-58586f964633",
   "metadata": {},
   "source": [
    "b. Hay diferencias?"
   ]
  },
  {
   "cell_type": "code",
   "execution_count": null,
   "id": "edd3cf00-90f2-480a-b652-30baddfa4b20",
   "metadata": {},
   "outputs": [],
   "source": [
    "# Tu codigo\n"
   ]
  },
  {
   "cell_type": "markdown",
   "id": "b37ad55d-703b-4f86-a9d5-14c769216448",
   "metadata": {},
   "source": [
    "Conclusion"
   ]
  },
  {
   "cell_type": "code",
   "execution_count": null,
   "id": "c8d89792-3d33-481f-95f1-9a40c21462c4",
   "metadata": {},
   "outputs": [],
   "source": []
  }
 ],
 "metadata": {
  "kernelspec": {
   "display_name": "R",
   "language": "R",
   "name": "ir"
  },
  "language_info": {
   "codemirror_mode": "r",
   "file_extension": ".r",
   "mimetype": "text/x-r-source",
   "name": "R",
   "pygments_lexer": "r",
   "version": "4.3.0"
  }
 },
 "nbformat": 4,
 "nbformat_minor": 5
}
